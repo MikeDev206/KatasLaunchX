{
 "cells": [
  {
   "cell_type": "markdown",
   "metadata": {},
   "source": [
    "## Utilizar operadores aritméticos \n",
    "\n",
    "Operadores aritméticos en Python\n",
    "Python proporciona operadores aritméticos comunes para que puedas realizar operaciones matemáticas en tu código. Estos incluyen las cuatro operaciones principales de suma, resta, multiplicación y división.\n",
    "\n",
    "Exploremos cómo podemos crear un programa que pueda calcular la distancia entre dos planetas. Comenzaremos usando dos distancias de planetas: Tierra (149.597.870 km) y Júpiter (778.547.200 km).\n",
    "\n",
    "TIP Dedica unos minutos a tratar de encontrar una solución. Luego desplázate hacia abajo hasta la parte inferior para ver si has logrado compilar el programa de acuerdo con las especificaciones.\n",
    "\n",
    "Nota: Quita las comas cuando uses los valores.\n"
   ]
  },
  {
   "cell_type": "code",
   "execution_count": 2,
   "metadata": {},
   "outputs": [
    {
     "name": "stdout",
     "output_type": "stream",
     "text": [
      "La distancia del sol a la Tierra es:  149597870 y la distancia del sol a Jupiter es:  778547200\n"
     ]
    }
   ],
   "source": [
    "# Crear variables para almacenar las dos distancias\n",
    "# ¡Asegúrate de quitar las comas!\n",
    "\n",
    "earthD = 149597870\n",
    "jupiterD = 778547200\n",
    "\n",
    "print('La distancia del sol a la Tierra es: ',earthD, 'y la distancia del sol a Jupiter es: ',jupiterD)"
   ]
  },
  {
   "cell_type": "code",
   "execution_count": 13,
   "metadata": {},
   "outputs": [
    {
     "name": "stdout",
     "output_type": "stream",
     "text": [
      "La distancia del Sol a la Tierra es: 149597870 km y la distancia del Sol a Jupiter es: 778547200 km\n",
      "La distancia entre estos dos planetas por tanto es: 628949330 km. Si la ponemos en millas...\n",
      "La distancia entre Jupiter y la Tierra es de:  390577534 millas\n"
     ]
    }
   ],
   "source": [
    "# Calcular la distancia entre planetas\n",
    "print('La distancia del Sol a la Tierra es:', earthD,'km'\n",
    "      ' y la distancia del Sol a Jupiter es:', jupiterD,'km')\n",
    "\n",
    "\n",
    "\n",
    "betweenDistance = jupiterD - earthD\n",
    "\n",
    "print('La distancia entre estos dos planetas por tanto es:', betweenDistance,'km. Si la ponemos en millas...')\n",
    "\n",
    "\n",
    "kilometersToMiles = betweenDistance * 0.621\n",
    "\n",
    "print('La distancia entre Jupiter y la Tierra es de: ',round(kilometersToMiles), 'millas')"
   ]
  },
  {
   "cell_type": "markdown",
   "metadata": {},
   "source": [
    "## Convertir cadenas en números y usar valores absolutos\n",
    "\n",
    "Crear una aplicación para trabajar con números y entrada de usuario\n",
    "Con frecuencia, deberás convertir los valores de cadena en números para realizar correctamente diferentes operaciones o determinar el valor absoluto de un número.\n",
    "\n",
    "Para crear nuestra aplicación, queremos leer la distancia del sol para dos planetas, y luego mostrar la distancia entre los planetas. Haremos esto usando input para leer los valores, int para convertir a entero y luego abs para convertir el resultado en su valor absoluto."
   ]
  },
  {
   "cell_type": "code",
   "execution_count": 19,
   "metadata": {},
   "outputs": [
    {
     "name": "stdout",
     "output_type": "stream",
     "text": [
      "These are your planets:  366000456 & 598000654\n"
     ]
    }
   ],
   "source": [
    "# Usando input, agrega el código para leer la distancia del sol para cada planeta, considerando 2 planetas.\n",
    "# Almacenar las entradas del usuario\n",
    "#Pista: variable = input(\"¿Cuál es tu nombre?\")\n",
    "\n",
    "planetOne = input('Insert first planet distance, ese: ')\n",
    "planetTwo = input('Insert the second planet distance, pls: ')\n",
    "\n",
    "print('These are your planets: ', planetOne, '&', planetTwo)"
   ]
  },
  {
   "cell_type": "code",
   "execution_count": 20,
   "metadata": {},
   "outputs": [],
   "source": [
    "# Convertir a número\n",
    "# Debido a que input devuelve valores de cadena, necesitamos convertirlos en números. Para nuestro ejemplo, usaremos int\n",
    "\n",
    "planetOne = int(planetOne)\n",
    "planetTwo = int(planetTwo)"
   ]
  },
  {
   "cell_type": "code",
   "execution_count": 26,
   "metadata": {},
   "outputs": [
    {
     "name": "stdout",
     "output_type": "stream",
     "text": [
      "There you go!, the distance between your planets is: 232000198 km and if you convert this to miles, the result might be:  144072123 :3 enjoy\n"
     ]
    }
   ],
   "source": [
    "# Realizar el cálculo y convertir a valor absoluto\n",
    "# Con los valores almacenados como números, ahora puedes agregar el código para realizar el cálculo, restando el primer planeta del segundo.\n",
    "# Debido a que el segundo planeta podría ser un número mayor, usarás abs para convertirlo a un valor absoluto. \n",
    "# También agregarás el código para mostrar el resultado en millas multiplicando la distancia del kilómetro por 0.621\n",
    "\n",
    "distBetPlanets = abs(planetOne - planetTwo)\n",
    "\n",
    "convertToMiles = round(distBetPlanets * 0.621)\n",
    "\n",
    "print('There you go!, the distance between your planets is:',distBetPlanets,'km and if you convert this to miles, the result might be: ', convertToMiles, ':3 enjoy')"
   ]
  }
 ],
 "metadata": {
  "interpreter": {
   "hash": "e7370f93d1d0cde622a1f8e1c04877d8463912d04d973331ad4851f04de6915a"
  },
  "kernelspec": {
   "display_name": "Python 3.10.2 64-bit",
   "language": "python",
   "name": "python3"
  },
  "language_info": {
   "codemirror_mode": {
    "name": "ipython",
    "version": 3
   },
   "file_extension": ".py",
   "mimetype": "text/x-python",
   "name": "python",
   "nbconvert_exporter": "python",
   "pygments_lexer": "ipython3",
   "version": "3.10.2"
  },
  "orig_nbformat": 4
 },
 "nbformat": 4,
 "nbformat_minor": 2
}
