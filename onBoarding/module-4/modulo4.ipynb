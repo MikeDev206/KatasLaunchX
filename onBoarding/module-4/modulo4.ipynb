{
 "cells": [
  {
   "cell_type": "markdown",
   "metadata": {},
   "source": [
    "## Transformar las cadenas\n",
    "\n",
    "Usar métodos de cadenas para modificar el texto con hechos sobre la Luna y luego extraer información para crear un breve resumen."
   ]
  },
  {
   "cell_type": "code",
   "execution_count": 16,
   "metadata": {},
   "outputs": [
    {
     "name": "stdout",
     "output_type": "stream",
     "text": [
      "Interesting facts about the Moon\n",
      " The Moon is Earth's only satellite\n",
      " There are several interesting facts about the Moon and how it affects life here on Earth\n",
      " On average, the Moon moves 4cm away from the Earth every year\n",
      " This yearly drift is not significant enough to cause immediate effects on Earth\n",
      " The highest daylight temperature of the Moon is 127 C\n",
      "\n"
     ]
    }
   ],
   "source": [
    "# This is the text were I'll be working on.\n",
    "text = \"\"\"Interesting facts about the Moon. The Moon is Earth's only satellite. There are several interesting facts about the Moon and how it affects life here on Earth. On average, the Moon moves 4cm away from the Earth every year. \n",
    "This yearly drift is not significant enough to cause immediate effects on Earth. The highest daylight temperature of the Moon is 127 C.\"\"\"\n",
    "\n",
    "# Try to divide the text into sentences to work on it's content\n",
    "text .split('.')\n"
   ]
  },
  {
   "cell_type": "code",
   "execution_count": 19,
   "metadata": {},
   "outputs": [
    {
     "data": {
      "text/plain": [
       "['average', 'temperature', 'distance']"
      ]
     },
     "execution_count": 19,
     "metadata": {},
     "output_type": "execute_result"
    }
   ],
   "source": [
    "# Define keywords to search if a sentence has a fact. FE: average, temperature and distance.\n",
    "\n",
    "sentences = text.split('.')\n",
    "keyWords = ['average', 'temperature', 'distance']\n",
    "keyWords\n"
   ]
  },
  {
   "cell_type": "code",
   "execution_count": 20,
   "metadata": {},
   "outputs": [
    {
     "name": "stdout",
     "output_type": "stream",
     "text": [
      " On average, the Moon moves 4cm away from the Earth every year\n",
      " The highest daylight temperature of the Moon is 127 C\n"
     ]
    }
   ],
   "source": [
    "# Now create a bucle to print data about the moon that is related to the keywords previously defined.\n",
    "for sentence in sentences:\n",
    "\tfor keyWord in keyWords:\n",
    "\t\tif keyWord in sentence:\n",
    "\t\t\tprint(sentence)\n"
   ]
  },
  {
   "cell_type": "code",
   "execution_count": 22,
   "metadata": {},
   "outputs": [
    {
     "name": "stdout",
     "output_type": "stream",
     "text": [
      " On average, the Moon moves 4cm away from the Earth every year\n",
      " The highest daylight temperature of the Moon is 127 Celsius\n"
     ]
    }
   ],
   "source": [
    "# Last but not least, update the bucle to change 'C' to 'Celsius'.\n",
    "\n",
    "for sentence in sentences:\n",
    "\tfor keyWord in keyWords:\n",
    "\t\tif keyWord in sentence: \n",
    "\t\t\tif keyWord == 'C': \n",
    "\t\t\t\tprint(keyWord.replace('C','Celsius'))\n",
    "\t\t\n",
    "\n",
    "# solucion\n",
    "\n",
    "for sentence in sentences:\n",
    "\tfor keyWord in keyWords:\n",
    "\t\tif keyWord in sentence:\n",
    "\t\t\tprint(sentence.replace('C', 'Celsius'))\n",
    "\t\t\tbreak\n"
   ]
  },
  {
   "cell_type": "markdown",
   "metadata": {},
   "source": [
    "## Formateando Cadenas\n",
    "\n",
    "Saber cómo dar formato a las cadenas es esencial cuando se presenta información de un programa. Hay algunas maneras diferentes de lograr esto en Python. En este ejercicio, se utilizan variables que contienen datos clave sobre la gravedad en varias lunas y luego se utilizan para dar formato e imprimir la información.\n",
    "\n",
    "El formato tiene que acomodar información sobre otras lunas, por lo que debe ser genérico.\n",
    "\n",
    "En lugar de reemplazar las variables en una cadena larga como parte de un párrafo, utiliza la información para presentarla en un formato tabular. El resultado debería verse así:\n",
    "\n",
    "Gravity Facts about Ganymede\n",
    "-------------------------------------------------------------------------------\n",
    "Planet Name: Mars\n",
    "Gravity on Ganymede: 1.4300000000000002 m/s2\n",
    "\n"
   ]
  },
  {
   "cell_type": "code",
   "execution_count": 23,
   "metadata": {},
   "outputs": [],
   "source": [
    "# Info to work\n",
    "name = 'Moon'\n",
    "gravity = 0.00162 \n",
    "planet = 'Earth'\n"
   ]
  },
  {
   "cell_type": "code",
   "execution_count": 27,
   "metadata": {},
   "outputs": [
    {
     "data": {
      "text/plain": [
       "'Gravity facts about Moon'"
      ]
     },
     "execution_count": 27,
     "metadata": {},
     "output_type": "execute_result"
    }
   ],
   "source": [
    "# Create the title\n",
    "\n",
    "title = f'Gravity facts about {name}'\n",
    "title"
   ]
  },
  {
   "cell_type": "code",
   "execution_count": 32,
   "metadata": {},
   "outputs": [
    {
     "data": {
      "text/plain": [
       "'--------------->\\nName of the planet:Earth\\nGravity in Moon: 1.6199999999999999 m/s2\\n<--------------\\n'"
      ]
     },
     "execution_count": 32,
     "metadata": {},
     "output_type": "execute_result"
    }
   ],
   "source": [
    "# Crear plantilla de cadena multilinea para contener el resto de la info. En lugar de usar km, debes convertir la distancia a metros multiplicando por 1,000.\n",
    "facts = f\"\"\"{'--------------->'}\n",
    "Name of the planet:{planet}\n",
    "Gravity in {name}: {gravity * 1000} m/s2\n",
    "{'<--------------'}\n",
    "\"\"\"\n",
    "facts"
   ]
  },
  {
   "cell_type": "code",
   "execution_count": 33,
   "metadata": {},
   "outputs": [
    {
     "data": {
      "text/plain": [
       "'Gravity Facts About Moon\\n--------------->\\nName of the planet:Earth\\nGravity in Moon: 1.6199999999999999 m/s2\\n<--------------\\n\\n'"
      ]
     },
     "execution_count": 33,
     "metadata": {},
     "output_type": "execute_result"
    }
   ],
   "source": [
    "# Use both variables to unite title and facts\n",
    "\n",
    "theString = f\"\"\"{title.title()}\n",
    "{facts}\n",
    "\"\"\"\n",
    "theString\n"
   ]
  },
  {
   "cell_type": "code",
   "execution_count": 42,
   "metadata": {},
   "outputs": [
    {
     "name": "stdout",
     "output_type": "stream",
     "text": [
      "--------------->\n",
      "Name of the planet:Earth\n",
      "Gravity in Moon: 1.6199999999999999 m/s2\n",
      "<--------------\n",
      "\n",
      "\n",
      "Datos de Gravedad sobre: Ganímedes\n",
      "-------------------------------------------------------------------------------\n",
      "Nombre del planeta: Marte \n",
      "Gravedad en Ganímedes: 0.00143 m/s2\n",
      "\n"
     ]
    }
   ],
   "source": [
    "# Replace current information with new information to prove if the template still works.\n",
    "# New data\n",
    "\n",
    "# planet = 'Mars'\n",
    "# gravity = 0.00143\n",
    "# name = 'Ganymede'\n",
    "# \n",
    "# print(newTemplate.format(name = name, planet = planet, gravity = gravity * 1000))\n",
    "\n",
    "\n",
    "# Solucion \n",
    "# Nuevos datos muestra\n",
    "planet = 'Marte '\n",
    "gravity = 0.00143\n",
    "name = 'Ganímedes'\n",
    "# Comprobamos la plantilla\n",
    "print(facts)\n",
    "new_template = \"\"\"\n",
    "Datos de Gravedad sobre: {name}\n",
    "-------------------------------------------------------------------------------\n",
    "Nombre del planeta: {planet}\n",
    "Gravedad en {name}: {gravity} m/s2\n",
    "\"\"\"\n",
    "print(new_template.format(name=name, planet=planet, gravity=gravity))\n",
    "\n",
    "# Pista: print(nueva_plantilla.format(variables))\n",
    "# print(new_template.format(nombre=nombre, planeta=planeta, gravedad=gravedad*1000))\n"
   ]
  }
 ],
 "metadata": {
  "interpreter": {
   "hash": "e7370f93d1d0cde622a1f8e1c04877d8463912d04d973331ad4851f04de6915a"
  },
  "kernelspec": {
   "display_name": "Python 3.10.2 64-bit",
   "language": "python",
   "name": "python3"
  },
  "language_info": {
   "codemirror_mode": {
    "name": "ipython",
    "version": 3
   },
   "file_extension": ".py",
   "mimetype": "text/x-python",
   "name": "python",
   "nbconvert_exporter": "python",
   "pygments_lexer": "ipython3",
   "version": "3.10.2"
  },
  "orig_nbformat": 4
 },
 "nbformat": 4,
 "nbformat_minor": 2
}
