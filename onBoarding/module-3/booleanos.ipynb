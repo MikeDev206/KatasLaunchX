{
 "cells": [
  {
   "cell_type": "markdown",
   "metadata": {},
   "source": [
    "## Testeando booleanos"
   ]
  },
  {
   "cell_type": "code",
   "execution_count": 8,
   "metadata": {},
   "outputs": [
    {
     "name": "stdout",
     "output_type": "stream",
     "text": [
      "a is greater than b\n"
     ]
    }
   ],
   "source": [
    "a = 97\n",
    "b = 55\n",
    "if b > a:\n",
    "  print(\"b is greater than a\")\n",
    "else:\n",
    "  print(\"a is greater than b\")\n"
   ]
  },
  {
   "cell_type": "markdown",
   "metadata": {},
   "source": [
    "## Sintaxis de las condiciones \n",
    "\n",
    "if expresion_prueba:\n",
    "\n",
    "\t#instruccion(es) a ejecutar\n",
    "\n",
    "Por ejemplo: ==>"
   ]
  },
  {
   "cell_type": "code",
   "execution_count": 7,
   "metadata": {},
   "outputs": [
    {
     "name": "stdout",
     "output_type": "stream",
     "text": [
      "93\n"
     ]
    }
   ],
   "source": [
    "# Aplica el tip de práctica 1.\n",
    "a = 93\n",
    "b = 27\n",
    "if a >= b:\n",
    "    print(a)\n"
   ]
  },
  {
   "cell_type": "markdown",
   "metadata": {},
   "source": [
    "## Condicionales anidadas\n",
    "\n",
    "Python también admite lógica condicional anidada, lo que significa que puedes anidar sentencias if , elif, y else, para crear programas aún más complejos. Para anidar condiciones, indenta las condiciones internas y todo lo que esté en el mismo nivel de sangría se ejecutará en el mismo bloque de código:"
   ]
  },
  {
   "cell_type": "code",
   "execution_count": 9,
   "metadata": {},
   "outputs": [
    {
     "name": "stdout",
     "output_type": "stream",
     "text": [
      "a is less than b\n"
     ]
    }
   ],
   "source": [
    "a = 16\n",
    "b = 25\n",
    "c = 27 \n",
    "if a > b:\n",
    "\tif b > c: \n",
    "\t\tprint (\"a is greater than b & b is greater than c\")\n",
    "\telse:\n",
    "\t\tprint (\"a is less than b and less than c\")\t\n",
    "elif a == b:\n",
    "\tprint (\" is equal to b\")\n",
    "else: \n",
    "\tprint (\"a is less than b\")"
   ]
  },
  {
   "cell_type": "markdown",
   "metadata": {},
   "source": [
    "## Usando and y or"
   ]
  },
  {
   "cell_type": "code",
   "execution_count": 10,
   "metadata": {},
   "outputs": [
    {
     "name": "stdout",
     "output_type": "stream",
     "text": [
      "57\n"
     ]
    }
   ],
   "source": [
    "a = 23\n",
    "b = 34\n",
    "if a == 34 or b == 34:\n",
    "\tprint (a + b)"
   ]
  },
  {
   "cell_type": "code",
   "execution_count": 12,
   "metadata": {},
   "outputs": [
    {
     "name": "stdout",
     "output_type": "stream",
     "text": [
      "No aplica bro\n"
     ]
    }
   ],
   "source": [
    "a = 23\n",
    "b = 34\n",
    "if a == 34 and b == 34:\n",
    "\tprint (a + b)\n",
    "else: \n",
    "\tprint (\"No aplica bro\")\t"
   ]
  },
  {
   "cell_type": "markdown",
   "metadata": {},
   "source": [
    "## KATA MÓDULO 3\n",
    "\n",
    "IMPRIMIR UNA ADVERTENCIA EN CASO DE QUE UN ASTEROIDE QUE SE ACERQUE A LA TIERRA VENGA DEMASIADO RÁPIDO. "
   ]
  },
  {
   "cell_type": "code",
   "execution_count": 15,
   "metadata": {},
   "outputs": [
    {
     "name": "stdout",
     "output_type": "stream",
     "text": [
      "Run 4 ur life man!\n"
     ]
    }
   ],
   "source": [
    "velocidadAsteroide = 49\n",
    "alerta = 25\n",
    "\n",
    "\n",
    "if velocidadAsteroide > alerta:\n",
    "\tprint (\"Run 4 ur life man!\")\n",
    "else:\n",
    "\tprint (\"Boring\")\n"
   ]
  },
  {
   "cell_type": "markdown",
   "metadata": {},
   "source": [
    "IMPRIMIR UNA ALERTA PARA QUE LA GENTE MIRE AL CIELO EN CASO DE QUE UN ASTEROIDE SE ACERQUE"
   ]
  },
  {
   "cell_type": "code",
   "execution_count": 20,
   "metadata": {},
   "outputs": [
    {
     "name": "stdout",
     "output_type": "stream",
     "text": [
      "Nothing happens, what are we looking at? .__.\n"
     ]
    }
   ],
   "source": [
    "velLuz = 20\n",
    "velAst = 19\n",
    "\n",
    "if velAst >= velLuz:\n",
    "\tprint (\"Look up!! Take a video and get to safety\")\n",
    "elif velAst < velLuz:\n",
    "\tprint (\"Nothing happens, what are we looking at? .__.\")\n",
    "else:\n",
    "\tprint (\"Ask yourself what is an asteroid\")"
   ]
  },
  {
   "cell_type": "markdown",
   "metadata": {},
   "source": [
    "En este ejercicio, aprenderás información más matizada sobre cuándo los asteroides representan un peligro para la Tierra, y utilizarás esa información para mejorar nuestro sistema de advertencia. Aquí está la nueva información que necesitas saber:\n",
    "\n",
    "*Los asteroides de menos de 25 metros en su dimensión más grande probablemente se quemarán a medida que entren en la atmósfera de la Tierra.\n",
    "\n",
    "Si una pieza de un asteroide que es más grande que 25 metros pero más pequeña que 1000 metros golpeara la Tierra, causaría mucho daño.\n",
    "También discutimos en el ejercicio anterior que:\n",
    "\n",
    "La velocidad del asteroide varía en función de lo cerca que esté del sol, y cualquier velocidad superior a 25 kilómetros por segundo (km/s) merece una advertencia.\n",
    "Si un asteroide entra en la atmósfera de la Tierra a una velocidad mayor o igual a 20 km/s, a veces produce un rayo de luz que se puede ver desde la Tierra.\n"
   ]
  },
  {
   "cell_type": "code",
   "execution_count": 35,
   "metadata": {},
   "outputs": [
    {
     "name": "stdout",
     "output_type": "stream",
     "text": [
      "Run man! Ruuuuuuuun! There is a big rock comming to destroy us! Just like Aladar :(\n"
     ]
    }
   ],
   "source": [
    "tamano = 1000\n",
    "velAsteroide = 20\n",
    "\n",
    "if velAsteroide >= 20 and tamano < 25:\n",
    "\tprint (\"Cause you're a sky... cause you're a skyyy full of stars :3\")\n",
    "elif 25 < tamano <= 1000:\n",
    "\tprint (\"Run man! Ruuuuuuuun! There is a big rock comming to destroy us! Just like Aladar :(\")\n",
    "else:\n",
    "\tprint (\"Keep moving live goes on, or maybe you already passed away\")"
   ]
  }
 ],
 "metadata": {
  "interpreter": {
   "hash": "e7370f93d1d0cde622a1f8e1c04877d8463912d04d973331ad4851f04de6915a"
  },
  "kernelspec": {
   "display_name": "Python 3.10.2 64-bit",
   "language": "python",
   "name": "python3"
  },
  "language_info": {
   "codemirror_mode": {
    "name": "ipython",
    "version": 3
   },
   "file_extension": ".py",
   "mimetype": "text/x-python",
   "name": "python",
   "nbconvert_exporter": "python",
   "pygments_lexer": "ipython3",
   "version": "3.10.2"
  },
  "orig_nbformat": 4
 },
 "nbformat": 4,
 "nbformat_minor": 2
}
