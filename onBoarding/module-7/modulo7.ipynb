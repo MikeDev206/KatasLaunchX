{
 "cells": [
  {
   "cell_type": "markdown",
   "metadata": {},
   "source": [
    "## Creación de un bucle while\n",
    "\n",
    "Uso de ciclos while en Python\n",
    "En Python, los ciclos while te permiten ejecutar código un número desconocido de veces. Los ciclos examinan una condición booleana y, siempre que la condición sea verdadera, se ejecutará el código dentro del ciclo. Esto es muy útil para situaciones como solicitar valores a un usuario.\n",
    "\n",
    "En este ejercicio, estás creando una aplicación que solicita a un usuario que ingrese una lista de planetas. En un ejercicio posterior, agregarás código que muestre la lista. Por ahora, crearás solo el código que solicita al usuario la lista de planetas.\n",
    "\n",
    "TIP Dedica unos minutos para tratar de encontrar una solución. Luego desplázate hacia abajo hasta la parte inferior para ver si has logrado compilar el programa de acuerdo con las especificaciones.\n"
   ]
  },
  {
   "cell_type": "code",
   "execution_count": 1,
   "metadata": {},
   "outputs": [],
   "source": [
    "# Declara dos variables\n",
    "\n",
    "newPlanet = ''\n",
    "planets = []"
   ]
  },
  {
   "cell_type": "code",
   "execution_count": 2,
   "metadata": {},
   "outputs": [
    {
     "name": "stdout",
     "output_type": "stream",
     "text": [
      "[]\n",
      "['Tierra']\n",
      "['Tierra', 'Marte']\n",
      "['Tierra', 'Marte', 'Jupiter']\n",
      "['Tierra', 'Marte', 'Jupiter', 'Saturno']\n",
      "['Tierra', 'Marte', 'Jupiter', 'Saturno', 'Urano ']\n",
      "['Tierra', 'Marte', 'Jupiter', 'Saturno', 'Urano ', 'Mercurio']\n",
      "['Tierra', 'Marte', 'Jupiter', 'Saturno', 'Urano ', 'Mercurio', 'Venus']\n",
      "['Tierra', 'Marte', 'Jupiter', 'Saturno', 'Urano ', 'Mercurio', 'Venus', 'Venus']\n",
      "['Tierra', 'Marte', 'Jupiter', 'Saturno', 'Urano ', 'Mercurio', 'Venus', 'Venus', 'Doge planet']\n",
      "['Tierra', 'Marte', 'Jupiter', 'Saturno', 'Urano ', 'Mercurio', 'Venus', 'Venus', 'Doge planet', 'Neptuno ']\n",
      "['Tierra', 'Marte', 'Jupiter', 'Saturno', 'Urano ', 'Mercurio', 'Venus', 'Venus', 'Doge planet', 'Neptuno ', 'Plutón']\n"
     ]
    }
   ],
   "source": [
    "# Escribe el ciclo while solicitado\n",
    "\n",
    "while newPlanet != 'done':\n",
    "\tif newPlanet:\n",
    "\t\tplanets.append(newPlanet)\n",
    "\tnewPlanet = input('Métele otro planeta papu ')\n",
    "\n",
    "\tprint(planets)"
   ]
  },
  {
   "cell_type": "markdown",
   "metadata": {},
   "source": [
    "## Creación de un ciclo for\n",
    "\n",
    "En el ejercicio anterior, creaste código para solicitar a los usuarios que introduzcan una lista de nombres de planetas. En este ejercicio, completarás la aplicación escribiendo código que muestre los nombres de esos planetas.\n",
    "\n",
    "Mostrar la lista de los planetas\n",
    "La variable planets almacena los nombres de planeta que ha introducido un usuario. Ahora usarás un ciclo para mostrar esas entradas.\n",
    "\n",
    "Crea un ciclo for para iterar sobre la lista planets. Puedes usar como nombre de la variable planet para cada planeta. Dentro del ciclo for, recuerda utilizar print para mostrar cada planet."
   ]
  },
  {
   "cell_type": "code",
   "execution_count": 4,
   "metadata": {},
   "outputs": [
    {
     "name": "stdout",
     "output_type": "stream",
     "text": [
      "['Tierra', 'Marte', 'Jupiter', 'Saturno', 'Urano ', 'Mercurio', 'Venus', 'Venus', 'Doge planet', 'Neptuno ', 'Plutón']\n",
      "['Tierra', 'Marte', 'Jupiter', 'Saturno', 'Urano ', 'Mercurio', 'Venus', 'Venus', 'Doge planet', 'Neptuno ', 'Plutón']\n",
      "['Tierra', 'Marte', 'Jupiter', 'Saturno', 'Urano ', 'Mercurio', 'Venus', 'Venus', 'Doge planet', 'Neptuno ', 'Plutón']\n",
      "['Tierra', 'Marte', 'Jupiter', 'Saturno', 'Urano ', 'Mercurio', 'Venus', 'Venus', 'Doge planet', 'Neptuno ', 'Plutón']\n",
      "['Tierra', 'Marte', 'Jupiter', 'Saturno', 'Urano ', 'Mercurio', 'Venus', 'Venus', 'Doge planet', 'Neptuno ', 'Plutón']\n",
      "['Tierra', 'Marte', 'Jupiter', 'Saturno', 'Urano ', 'Mercurio', 'Venus', 'Venus', 'Doge planet', 'Neptuno ', 'Plutón']\n",
      "['Tierra', 'Marte', 'Jupiter', 'Saturno', 'Urano ', 'Mercurio', 'Venus', 'Venus', 'Doge planet', 'Neptuno ', 'Plutón']\n",
      "['Tierra', 'Marte', 'Jupiter', 'Saturno', 'Urano ', 'Mercurio', 'Venus', 'Venus', 'Doge planet', 'Neptuno ', 'Plutón']\n",
      "['Tierra', 'Marte', 'Jupiter', 'Saturno', 'Urano ', 'Mercurio', 'Venus', 'Venus', 'Doge planet', 'Neptuno ', 'Plutón']\n",
      "['Tierra', 'Marte', 'Jupiter', 'Saturno', 'Urano ', 'Mercurio', 'Venus', 'Venus', 'Doge planet', 'Neptuno ', 'Plutón']\n",
      "['Tierra', 'Marte', 'Jupiter', 'Saturno', 'Urano ', 'Mercurio', 'Venus', 'Venus', 'Doge planet', 'Neptuno ', 'Plutón']\n",
      "Tierra\n",
      "Marte\n",
      "Jupiter\n",
      "Saturno\n",
      "Urano \n",
      "Mercurio\n",
      "Venus\n",
      "Venus\n",
      "Doge planet\n",
      "Neptuno \n",
      "Plutón\n"
     ]
    }
   ],
   "source": [
    "# Escribe tu ciclo for para iterar en una lista de planetas\n",
    "\n",
    "for planet in planets:\n",
    "\tif planet:\n",
    "\t\tprint(planets)\n",
    "\n",
    "# Solución \n",
    "for planet in planets:\n",
    "\tprint(planet)"
   ]
  }
 ],
 "metadata": {
  "interpreter": {
   "hash": "e7370f93d1d0cde622a1f8e1c04877d8463912d04d973331ad4851f04de6915a"
  },
  "kernelspec": {
   "display_name": "Python 3.10.2 64-bit",
   "language": "python",
   "name": "python3"
  },
  "language_info": {
   "codemirror_mode": {
    "name": "ipython",
    "version": 3
   },
   "file_extension": ".py",
   "mimetype": "text/x-python",
   "name": "python",
   "nbconvert_exporter": "python",
   "pygments_lexer": "ipython3",
   "version": "3.10.2"
  },
  "orig_nbformat": 4
 },
 "nbformat": 4,
 "nbformat_minor": 2
}
