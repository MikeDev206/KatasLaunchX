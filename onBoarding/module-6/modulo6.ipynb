{
 "cells": [
  {
   "cell_type": "markdown",
   "metadata": {},
   "source": [
    "## Crear y usar listas en Python\n",
    "\n",
    "Usar listas para almacenar nombres de planetas\n",
    "Las listas permiten almacenar varios valores en una sola variable. Comenzarás un proyecto sobre información planetaria creando una lista de planetas.\n",
    "\n",
    "TIP Dedica unos minutos para tratar de encontrar una solución. Luego desplázate hacia abajo hasta la parte inferior para ver si has logrado compilar el programa de acuerdo con las especificaciones"
   ]
  },
  {
   "cell_type": "code",
   "execution_count": 4,
   "metadata": {},
   "outputs": [
    {
     "name": "stdout",
     "output_type": "stream",
     "text": [
      "Tienes en total 8 planetas bruh/sis\n"
     ]
    }
   ],
   "source": [
    "# En primer lugar, crea una variable denominada planets. Agrega los ocho planetas (sin Plutón) a la lista. A continuación, muestra el número de planetas.\n",
    "# Creamos la lista planets y la mostramos\n",
    "\n",
    "planets = ['Mercurio', 'Venus', 'Tierra', 'Marte', 'Jupiter', 'Saturno', 'Urano', 'Neptuno']\n",
    "print('Tienes en total', len(planets), 'planetas bruh/sis')"
   ]
  },
  {
   "cell_type": "code",
   "execution_count": 8,
   "metadata": {},
   "outputs": [
    {
     "name": "stdout",
     "output_type": "stream",
     "text": [
      "Plutón Plutón es el último planeta bruh...!\n"
     ]
    }
   ],
   "source": [
    "#Agrega a Plutón a la lista que creaste. Luego muestra tanto el número de planetas como el último planeta de la lista.\n",
    "\n",
    "# Agregamos a plutón y mostramos el último elemento\n",
    "\n",
    "planets.append('Plutón')\n",
    "\n",
    "print(planets[-1], 'Plutón es el último planeta bruh...!')\n"
   ]
  },
  {
   "cell_type": "markdown",
   "metadata": {},
   "source": [
    "## Trabajando con datos de una lista\n",
    "\n",
    "Usar slices para recuperar partes de una lista\n",
    "Es posible que debas trabajar con diferentes secciones de una lista. En nuestro ejemplo, queremos mostrar planetas más cerca y más lejos del sol de un planeta que el usuario ingresa por teclado.\n"
   ]
  },
  {
   "cell_type": "code",
   "execution_count": null,
   "metadata": {},
   "outputs": [],
   "source": [
    "# Comienza agregando el código para crear una lista con los planetas.\n",
    "# Lista planetas \n",
    "planets = ['Mercurio', 'Venus', 'Tierra', 'Marte',\n",
    "           'Jupiter', 'Saturno', 'Urano', 'Neptuno']\n"
   ]
  },
  {
   "cell_type": "code",
   "execution_count": 16,
   "metadata": {},
   "outputs": [
    {
     "name": "stdout",
     "output_type": "stream",
     "text": [
      "DogePlanet 7u7r\n"
     ]
    }
   ],
   "source": [
    "# Solicita al usuario el nombre de un planeta\n",
    "# A continuación, agrega el código para solicitar al usuario un nombre.\n",
    "# Debido a que las cadenas distinguen entre mayúsculas y minúsculas en Python, pídale al usuario que use una letra mayúscula para comenzar el nombre del planeta.\n",
    "\n",
    "# Solicitamos el nombre de un planeta *Pista:  input()*\n",
    "\n",
    "otherPlanet = input(\n",
    "    'Ingresa un último planeta padre/madre, plox. De preferencia que empiece con mayúscula')\n",
    "\n",
    "planets.append(otherPlanet)\n",
    "print(otherPlanet)"
   ]
  },
  {
   "cell_type": "code",
   "execution_count": 18,
   "metadata": {},
   "outputs": [
    {
     "name": "stdout",
     "output_type": "stream",
     "text": [
      "12\n"
     ]
    }
   ],
   "source": [
    "# Encuentra el planeta en la lista\n",
    "# Para determinar qué planetas están más cerca que el que ingresó el usuario, debes encontrar dónde está el planeta en la lista. \n",
    "# Puedes utilizar index para realizar esta operación. \n",
    "# Agrega el código para encontrar el índice del planeta.\n",
    "\n",
    "# Busca el planeta en la lista\n",
    "\n",
    "planetFinder = planets.index(otherPlanet)\n",
    "\n",
    "print(planetFinder)"
   ]
  },
  {
   "cell_type": "code",
   "execution_count": 20,
   "metadata": {},
   "outputs": [
    {
     "name": "stdout",
     "output_type": "stream",
     "text": [
      "De tu lista, los planetas más cercanos al sol son: DogePlanet 7u7r\n",
      "Mercurio\n",
      "Here are the planets closer than DogePlanet 7u7r\n",
      "['Mercurio', 'Venus', 'Tierra', 'Marte', 'Jupiter', 'Saturno', 'Urano', 'Neptuno', 'Plutón', 'Plutón', 'Plutón', 'Dogee 7u7r']\n"
     ]
    }
   ],
   "source": [
    "# Mostrar planetas más cercanos al sol que el que el usuario ingresó\n",
    "# Con el índice determinado, ahora puedes agregar el código para mostrar los planetas más cercanos al sol.\n",
    "\n",
    "# Muestra los planetas más cercanos al sol\n",
    "\n",
    "print('De tu lista, los planetas más cercanos al sol son: ' + otherPlanet )\n",
    "print(planets[0])\n",
    "\n",
    "## Solución\n",
    "\n",
    "print('Here are the planets closer than ' + otherPlanet)\n",
    "print(planets[0:planetFinder])\n"
   ]
  },
  {
   "cell_type": "code",
   "execution_count": 21,
   "metadata": {},
   "outputs": [
    {
     "name": "stdout",
     "output_type": "stream",
     "text": [
      "...y los planetas más cercanos al sol son: DogePlanet 7u7r\n",
      "Mercurio\n",
      "Here are the planets further than DogePlanet 7u7r\n",
      "[]\n"
     ]
    }
   ],
   "source": [
    "# Mostrar planetas más alejados del sol que el que el usuario ingresó\n",
    "# Puedes usar el mismo índice para mostrar planetas más alejados del sol. Sin embargo, recuerda que el índice inicial se incluye cuando usas un slice. Como resultado, tendrás que agregar 1 al valor. Agrega el código para mostrar los planetas más alejados del sol.\n",
    "\n",
    "# Muestra los planetas más lejanos al sol\n",
    "\n",
    "print('...y los planetas más cercanos al sol son: ' + otherPlanet)\n",
    "print(planets[0])\n",
    "\n",
    "## Solución\n",
    "\n",
    "print('Here are the planets further than ' + otherPlanet)\n",
    "print(planets[planetFinder + 1:])\n"
   ]
  }
 ],
 "metadata": {
  "interpreter": {
   "hash": "e7370f93d1d0cde622a1f8e1c04877d8463912d04d973331ad4851f04de6915a"
  },
  "kernelspec": {
   "display_name": "Python 3.10.2 64-bit",
   "language": "python",
   "name": "python3"
  },
  "language_info": {
   "codemirror_mode": {
    "name": "ipython",
    "version": 3
   },
   "file_extension": ".py",
   "mimetype": "text/x-python",
   "name": "python",
   "nbconvert_exporter": "python",
   "pygments_lexer": "ipython3",
   "version": "3.10.2"
  },
  "orig_nbformat": 4
 },
 "nbformat": 4,
 "nbformat_minor": 2
}
